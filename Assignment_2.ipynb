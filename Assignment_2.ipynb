{
 "cells": [
  {
   "cell_type": "markdown",
   "id": "45c5d88e-20ce-4f1c-bb9d-4ede5005e52d",
   "metadata": {},
   "source": [
    "**ASSIGNMENT:-** Implement a Linked List in Python Using OOP and Delete the Nth Node"
   ]
  },
  {
   "cell_type": "code",
   "execution_count": 1,
   "id": "43205769-9994-4995-a732-47f508dd4f51",
   "metadata": {},
   "outputs": [
    {
     "name": "stdout",
     "output_type": "stream",
     "text": [
      "Enter elements to create the linked list (type 'done' to finish):\n"
     ]
    },
    {
     "name": "stdin",
     "output_type": "stream",
     "text": [
      "Enter value:  10\n",
      "Enter value:  20\n",
      "Enter value:  30\n",
      "Enter value:  40\n",
      "Enter value:  50\n",
      "Enter value:  done\n"
     ]
    },
    {
     "name": "stdout",
     "output_type": "stream",
     "text": [
      "\n",
      "Created List:\n",
      "10 -> 20 -> 30 -> 40 -> 50\n"
     ]
    },
    {
     "name": "stdin",
     "output_type": "stream",
     "text": [
      "\n",
      "Do you want to delete a node? (yes/no):  yes\n",
      "Enter position to delete (1-based index):  3\n"
     ]
    },
    {
     "name": "stdout",
     "output_type": "stream",
     "text": [
      "Deleted node at position 3: 30\n",
      "List after deletion:\n",
      "10 -> 20 -> 40 -> 50\n"
     ]
    },
    {
     "name": "stdin",
     "output_type": "stream",
     "text": [
      "\n",
      "Do you want to delete a node? (yes/no):  no\n"
     ]
    },
    {
     "name": "stdout",
     "output_type": "stream",
     "text": [
      "\n",
      "Final state of the linked list:\n",
      "10 -> 20 -> 40 -> 50\n"
     ]
    }
   ],
   "source": [
    "\n",
    "class Node:\n",
    "    \"\"\"Represents a node in the linked list.\"\"\"\n",
    "    def __init__(self, data):\n",
    "        self.data = data\n",
    "        self.next = None\n",
    "\n",
    "\n",
    "class LinkedList:\n",
    "    \"\"\"Singly Linked List class with basic operations.\"\"\"\n",
    "    def __init__(self):\n",
    "        self.head = None\n",
    "\n",
    "    def append(self, data):\n",
    "        \"\"\"Adds a new node with the given data at the end.\"\"\"\n",
    "        new_node = Node(data)\n",
    "        if not self.head:\n",
    "            self.head = new_node\n",
    "            return\n",
    "        current = self.head\n",
    "        while current.next:\n",
    "            current = current.next\n",
    "        current.next = new_node\n",
    "\n",
    "    def print_list(self):\n",
    "        \"\"\"Prints the entire list.\"\"\"\n",
    "        current = self.head\n",
    "        if not current:\n",
    "            print(\"The list is empty.\")\n",
    "            return\n",
    "        elements = []\n",
    "        while current:\n",
    "            elements.append(str(current.data))\n",
    "            current = current.next\n",
    "        print(\" -> \".join(elements))\n",
    "\n",
    "    def delete_nth_node(self, n):\n",
    "        \"\"\"Deletes the nth node from the list (1-based index).\"\"\"\n",
    "        if not self.head:\n",
    "            raise Exception(\"Cannot delete from an empty list.\")\n",
    "\n",
    "        if n <= 0:\n",
    "            raise ValueError(\"Index must be a positive integer.\")\n",
    "\n",
    "        if n == 1:\n",
    "            deleted_data = self.head.data\n",
    "            self.head = self.head.next\n",
    "            print(f\"Deleted node at position {n}: {deleted_data}\")\n",
    "            return\n",
    "\n",
    "        current = self.head\n",
    "        prev = None\n",
    "        count = 1\n",
    "\n",
    "        while current and count < n:\n",
    "            prev = current\n",
    "            current = current.next\n",
    "            count += 1\n",
    "\n",
    "        if not current:\n",
    "            raise IndexError(\"Index out of range.\")\n",
    "\n",
    "        prev.next = current.next\n",
    "        print(f\"Deleted node at position {n}: {current.data}\")\n",
    "\n",
    "\n",
    "# Driver code with user interaction\n",
    "if __name__ == \"__main__\":\n",
    "    ll = LinkedList()\n",
    "\n",
    "    print(\"Enter elements to create the linked list (type 'done' to finish):\")\n",
    "    while True:\n",
    "        inp = input(\"Enter value: \")\n",
    "        if inp.lower() == 'done':\n",
    "            break\n",
    "        try:\n",
    "            val = int(inp)\n",
    "            ll.append(val)\n",
    "        except ValueError:\n",
    "            print(\"Please enter a valid integer or 'done'.\")\n",
    "\n",
    "    print(\"\\nCreated List:\")\n",
    "    ll.print_list()\n",
    "\n",
    "    while True:\n",
    "        choice = input(\"\\nDo you want to delete a node? (yes/no): \").strip().lower()\n",
    "        if choice == 'no':\n",
    "            break\n",
    "        if choice == 'yes':\n",
    "            try:\n",
    "                pos = int(input(\"Enter position to delete (1-based index): \"))\n",
    "                ll.delete_nth_node(pos)\n",
    "                print(\"List after deletion:\")\n",
    "                ll.print_list()\n",
    "            except Exception as e:\n",
    "                print(f\"Error: {e}\")\n",
    "        else:\n",
    "            print(\"Please type 'yes' or 'no'.\")\n",
    "\n",
    "    print(\"\\nFinal state of the linked list:\")\n",
    "    ll.print_list()\n"
   ]
  },
  {
   "cell_type": "code",
   "execution_count": null,
   "id": "8f7a9583-c8b2-4fcb-9376-e60251f7e79d",
   "metadata": {},
   "outputs": [],
   "source": []
  }
 ],
 "metadata": {
  "kernelspec": {
   "display_name": "Python 3 (ipykernel)",
   "language": "python",
   "name": "python3"
  },
  "language_info": {
   "codemirror_mode": {
    "name": "ipython",
    "version": 3
   },
   "file_extension": ".py",
   "mimetype": "text/x-python",
   "name": "python",
   "nbconvert_exporter": "python",
   "pygments_lexer": "ipython3",
   "version": "3.12.3"
  }
 },
 "nbformat": 4,
 "nbformat_minor": 5
}
