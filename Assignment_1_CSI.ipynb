{
 "cells": [
  {
   "cell_type": "markdown",
   "id": "f7c23100-95fe-4bd1-ad90-90121d633ce0",
   "metadata": {},
   "source": [
    "**ASSIGNMENT1:**\n",
    "Create lower triangular, upper triangular and pyramid containing the \"*\" character."
   ]
  },
  {
   "cell_type": "code",
   "execution_count": 2,
   "id": "d0afb9b2-6264-40d3-81c8-67245c67fbf0",
   "metadata": {},
   "outputs": [
    {
     "name": "stdin",
     "output_type": "stream",
     "text": [
      "Enter number of rows for Lower Triangular Pattern:  5\n"
     ]
    },
    {
     "name": "stdout",
     "output_type": "stream",
     "text": [
      "*\n",
      "**\n",
      "***\n",
      "****\n",
      "*****\n"
     ]
    }
   ],
   "source": [
    "#Lower Triangle Code\n",
    "def lower_triangle(n):\n",
    "    for i in range(1, n + 1):\n",
    "        print('*' * i)\n",
    "\n",
    "# User input for the number of rows\n",
    "rows = int(input(\"Enter number of rows for Lower Triangular Pattern: \"))\n",
    "lower_triangle(rows)\n"
   ]
  },
  {
   "cell_type": "code",
   "execution_count": 3,
   "id": "bdc6d25f-4d49-450a-b6f8-ff02050cfc8c",
   "metadata": {},
   "outputs": [
    {
     "name": "stdin",
     "output_type": "stream",
     "text": [
      "Enter number of rows for Upper Triangular Pattern:  5\n"
     ]
    },
    {
     "name": "stdout",
     "output_type": "stream",
     "text": [
      "*****\n",
      " ****\n",
      "  ***\n",
      "   **\n",
      "    *\n"
     ]
    }
   ],
   "source": [
    "#Upper Triangle Code\n",
    "def upper_triangle(n):\n",
    "    for i in range(n):\n",
    "        print(' ' * i + '*' * (n - i))\n",
    "\n",
    "# User input for the number of rows\n",
    "rows = int(input(\"Enter number of rows for Upper Triangular Pattern: \"))\n",
    "upper_triangle(rows)\n"
   ]
  },
  {
   "cell_type": "code",
   "execution_count": 4,
   "id": "47eaab16-d363-4666-89ce-172b0b17938d",
   "metadata": {},
   "outputs": [
    {
     "name": "stdin",
     "output_type": "stream",
     "text": [
      "Enter number of rows for Pyramid Pattern:  5\n"
     ]
    },
    {
     "name": "stdout",
     "output_type": "stream",
     "text": [
      "    *\n",
      "   ***\n",
      "  *****\n",
      " *******\n",
      "*********\n"
     ]
    }
   ],
   "source": [
    "#Pyramid Code\n",
    "def pyramid(n):\n",
    "    for i in range(1, n + 1):\n",
    "        spaces = ' ' * (n - i)\n",
    "        stars = '*' * (2 * i - 1)\n",
    "        print(spaces + stars)\n",
    "\n",
    "# User input for the number of rows\n",
    "rows = int(input(\"Enter number of rows for Pyramid Pattern: \"))\n",
    "pyramid(rows)\n",
    "\n"
   ]
  },
  {
   "cell_type": "markdown",
   "id": "807d5db4-3e14-4418-a588-abd3c8395339",
   "metadata": {},
   "source": [
    "**Submitted By -**\n",
    "Preeti Deora"
   ]
  },
  {
   "cell_type": "code",
   "execution_count": null,
   "id": "6313e89a-7a2b-434b-8dbb-a5ca27cb5969",
   "metadata": {},
   "outputs": [],
   "source": []
  }
 ],
 "metadata": {
  "kernelspec": {
   "display_name": "Python 3 (ipykernel)",
   "language": "python",
   "name": "python3"
  },
  "language_info": {
   "codemirror_mode": {
    "name": "ipython",
    "version": 3
   },
   "file_extension": ".py",
   "mimetype": "text/x-python",
   "name": "python",
   "nbconvert_exporter": "python",
   "pygments_lexer": "ipython3",
   "version": "3.12.3"
  }
 },
 "nbformat": 4,
 "nbformat_minor": 5
}
